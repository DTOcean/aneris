{
 "metadata": {
  "name": "",
  "signature": "sha256:7d41aadcf8548f6d832d17068844bd9476b75c9bd89992b25c51e26ac31afc28"
 },
 "nbformat": 3,
 "nbformat_minor": 0,
 "worksheets": [
  {
   "cells": [
    {
     "cell_type": "markdown",
     "metadata": {},
     "source": [
      "This is a demonstration of importing a variable into the aneris data structures."
     ]
    },
    {
     "cell_type": "code",
     "collapsed": false,
     "input": [
      "%matplotlib inline"
     ],
     "language": "python",
     "metadata": {},
     "outputs": [],
     "prompt_number": 1
    },
    {
     "cell_type": "code",
     "collapsed": false,
     "input": [
      "import os\n",
      "\n",
      "from aneris.control.data import DataTransfer, DataAquisition, DataStorage\n",
      "from aneris.control.simulation import SimulationStorage"
     ],
     "language": "python",
     "metadata": {},
     "outputs": [],
     "prompt_number": 2
    },
    {
     "cell_type": "code",
     "collapsed": false,
     "input": [
      "# Define the variable we want to retrieve\n",
      "get_var = 'site:wave:dir'"
     ],
     "language": "python",
     "metadata": {},
     "outputs": [],
     "prompt_number": 3
    },
    {
     "cell_type": "code",
     "collapsed": false,
     "input": [
      "# Bring up a new simulation using the simulation storage controller\n",
      "sim_store = SimulationStorage()\n",
      "new_sim = sim_store.new_simulation(\"Hello World!\")"
     ],
     "language": "python",
     "metadata": {},
     "outputs": [],
     "prompt_number": 4
    },
    {
     "cell_type": "code",
     "collapsed": false,
     "input": [
      "# Collect the active data state and search for a variable within it using the data transfer controller\n",
      "transfer = DataTransfer()\n",
      "\n",
      "active_state = new_sim.get_active_state()\n",
      "result = transfer.variable_in_datastate(active_state, get_var)\n",
      "\n",
      "print result"
     ],
     "language": "python",
     "metadata": {},
     "outputs": [
      {
       "output_type": "stream",
       "stream": "stdout",
       "text": [
        "False\n"
       ]
      }
     ],
     "prompt_number": 5
    },
    {
     "cell_type": "code",
     "collapsed": false,
     "input": [
      "# Find which interfaces can provide the variable using the data aquisition controller\n",
      "aquisition = DataAquisition()\n",
      "providers = aquisition.get_providing_interfaces(get_var)\n",
      "\n",
      "print providers"
     ],
     "language": "python",
     "metadata": {},
     "outputs": [
      {
       "output_type": "stream",
       "stream": "stdout",
       "text": [
        "['SPTInterface']\n"
       ]
      }
     ],
     "prompt_number": 6
    },
    {
     "cell_type": "code",
     "collapsed": false,
     "input": [
      "# Set up the interface to an SPT file.\n",
      "aneris_dir = \"C:\\\\Users\\\\Joe Blogs\\\\Python\\\\aneris\" # Path to aneris source\n",
      "spt_path = os.path.join(aneris_dir,\n",
      "                        'data',\n",
      "                        'test_spectrum_30min.spt'\n",
      "                        )\n",
      "\n",
      "spt_interface = aquisition.get_interface_object(providers[0])\n",
      "spt_interface.file_path = spt_path"
     ],
     "language": "python",
     "metadata": {},
     "outputs": [],
     "prompt_number": 7
    },
    {
     "cell_type": "code",
     "collapsed": false,
     "input": [
      "# Import the variable using the spt interface and the data storage controller\n",
      "raw_data, metadata = transfer.import_variable(spt_interface,\n",
      "                                              get_var)\n",
      "\n",
      "data_store = DataStorage()\n",
      "data = data_store.create_new_data(raw_data, metadata)\n",
      "\n",
      "print data"
     ],
     "language": "python",
     "metadata": {},
     "outputs": [
      {
       "output_type": "stream",
       "stream": "stdout",
       "text": [
        "<aneris.entity.data.SeriesData object at 0x09745F50>\n"
       ]
      }
     ],
     "prompt_number": 8
    },
    {
     "cell_type": "code",
     "collapsed": false,
     "input": [
      "# Finally add the data into the active datastate\n",
      "active_state = data_store.add_data_to_state(active_state, data)\n",
      "\n",
      "# The state should now contain the variable\n",
      "print active_state.get_identifiers()"
     ],
     "language": "python",
     "metadata": {},
     "outputs": [
      {
       "output_type": "stream",
       "stream": "stdout",
       "text": [
        "['site:wave:dir']\n"
       ]
      }
     ],
     "prompt_number": 9
    },
    {
     "cell_type": "code",
     "collapsed": false,
     "input": [
      "# Display the data in the state\n",
      "data._series.plot()"
     ],
     "language": "python",
     "metadata": {},
     "outputs": [
      {
       "metadata": {},
       "output_type": "pyout",
       "prompt_number": 12,
       "text": [
        "<matplotlib.axes.AxesSubplot at 0x97e68f0>"
       ]
      },
      {
       "metadata": {},
       "output_type": "display_data",
       "png": "[encoded data removed]",
       "text": [
        "<matplotlib.figure.Figure at 0x97e6690>"
       ]
      }
     ],
     "prompt_number": 12
    },
    {
     "cell_type": "code",
     "collapsed": false,
     "input": [],
     "language": "python",
     "metadata": {},
     "outputs": []
    }
   ],
   "metadata": {}
  }
 ]
}